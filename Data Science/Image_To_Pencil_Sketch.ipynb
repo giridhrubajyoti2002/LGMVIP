{
 "cells": [
  {
   "cell_type": "markdown",
   "id": "96585fd2-9e84-4378-a49b-0d02dfdd8fdd",
   "metadata": {},
   "source": [
    "# Image to Pencil Sketch"
   ]
  },
  {
   "cell_type": "markdown",
   "id": "3e007de9-ba3e-4056-a878-147900dc856f",
   "metadata": {},
   "source": [
    "### import cv2"
   ]
  },
  {
   "cell_type": "code",
   "execution_count": 1,
   "id": "eb0cea3c-1d35-42d0-8de9-eb591d595fb2",
   "metadata": {},
   "outputs": [
    {
     "name": "stderr",
     "output_type": "stream",
     "text": [
      "C:\\Users\\Dhrubajyoti Giri\\AppData\\Local\\Programs\\Python\\Python39\\lib\\site-packages\\numpy\\_distributor_init.py:30: UserWarning: loaded more than 1 DLL from .libs:\n",
      "C:\\Users\\Dhrubajyoti Giri\\AppData\\Local\\Programs\\Python\\Python39\\lib\\site-packages\\numpy\\.libs\\libopenblas.FB5AE2TYXYH2IJRDKGDGQ3XBKLKTF43H.gfortran-win_amd64.dll\n",
      "C:\\Users\\Dhrubajyoti Giri\\AppData\\Local\\Programs\\Python\\Python39\\lib\\site-packages\\numpy\\.libs\\libopenblas.WCDJNK7YVMPZQ2ME2ZZHJJRJ3JIKNDB7.gfortran-win_amd64.dll\n",
      "  warnings.warn(\"loaded more than 1 DLL from .libs:\"\n"
     ]
    }
   ],
   "source": [
    "import cv2"
   ]
  },
  {
   "cell_type": "markdown",
   "id": "92be6c18-8445-4a55-af38-95bfd0b84747",
   "metadata": {},
   "source": [
    "### read image"
   ]
  },
  {
   "cell_type": "code",
   "execution_count": 24,
   "id": "f85c9437-aa96-42c5-a8d2-9ac21eccd955",
   "metadata": {},
   "outputs": [
    {
     "data": {
      "text/plain": [
       "-1"
      ]
     },
     "execution_count": 24,
     "metadata": {},
     "output_type": "execute_result"
    }
   ],
   "source": [
    "image = cv2.imread(\"car.jpg\")\n",
    "cv2.imshow(\"Car\", image)\n",
    "cv2.waitKey(0)"
   ]
  },
  {
   "cell_type": "markdown",
   "id": "66c698ef-af65-40f8-8e64-d899a7f20821",
   "metadata": {},
   "source": [
    "### Convert image from color to grayscale"
   ]
  },
  {
   "cell_type": "code",
   "execution_count": 25,
   "id": "f82f8cfc-55b0-4da5-b3cb-a9727386c460",
   "metadata": {},
   "outputs": [
    {
     "data": {
      "text/plain": [
       "-1"
      ]
     },
     "execution_count": 25,
     "metadata": {},
     "output_type": "execute_result"
    }
   ],
   "source": [
    "gray_image = cv2.cvtColor(image, cv2.COLOR_BGR2GRAY)\n",
    "cv2.imshow(\"New Car\", gray_image)\n",
    "cv2.waitKey(0)"
   ]
  },
  {
   "cell_type": "markdown",
   "id": "4125bd91-fc46-459c-9bee-da58f823b6b5",
   "metadata": {},
   "source": [
    "### Invert the grayscale image"
   ]
  },
  {
   "cell_type": "code",
   "execution_count": 6,
   "id": "c01655f0-58cb-49a6-b914-8fd09b3753f2",
   "metadata": {},
   "outputs": [
    {
     "data": {
      "text/plain": [
       "-1"
      ]
     },
     "execution_count": 6,
     "metadata": {},
     "output_type": "execute_result"
    }
   ],
   "source": [
    "inverted_image = 255 - gray_image\n",
    "cv2.imshow(\"Inverted\", inverted_image)\n",
    "cv2.waitKey(0)"
   ]
  },
  {
   "cell_type": "markdown",
   "id": "07db0d1f-6223-4eaa-8fa7-00761555fcc4",
   "metadata": {},
   "source": [
    "### Blur the inverted image using GaussianBlur"
   ]
  },
  {
   "cell_type": "code",
   "execution_count": 19,
   "id": "ef5163e3-b812-4385-8b39-25c37b45e7b6",
   "metadata": {},
   "outputs": [],
   "source": [
    "blurred = cv2.GaussianBlur(inverted_image, (21, 21), 0)"
   ]
  },
  {
   "cell_type": "markdown",
   "id": "1556c6ee-6eac-4d99-a267-a4b544d82295",
   "metadata": {},
   "source": [
    "### Create the Sketch"
   ]
  },
  {
   "cell_type": "code",
   "execution_count": 20,
   "id": "551039b9-02a9-4a58-8787-c75eb2cacef0",
   "metadata": {},
   "outputs": [
    {
     "data": {
      "text/plain": [
       "-1"
      ]
     },
     "execution_count": 20,
     "metadata": {},
     "output_type": "execute_result"
    }
   ],
   "source": [
    "inverted_blurred = 255 - blurred\n",
    "pencil_sketch = cv2.divide(gray_image, inverted_blurred, scale=256.0)\n",
    "cv2.imshow(\"Sketch\", pencil_sketch)\n",
    "cv2.waitKey(0)"
   ]
  },
  {
   "cell_type": "markdown",
   "id": "3c83837c-e743-4fbe-8257-2b20dd38d1a9",
   "metadata": {},
   "source": [
    "### Compare original and pencil sketch"
   ]
  },
  {
   "cell_type": "code",
   "execution_count": 26,
   "id": "7123016b-38b4-4220-a29a-d9e805a60189",
   "metadata": {},
   "outputs": [
    {
     "data": {
      "text/plain": [
       "-1"
      ]
     },
     "execution_count": 26,
     "metadata": {},
     "output_type": "execute_result"
    }
   ],
   "source": [
    "cv2.imshow(\"original image\", image)\n",
    "cv2.imshow(\"pencil sketch\", pencil_sketch)\n",
    "cv2.waitKey(0)"
   ]
  },
  {
   "cell_type": "code",
   "execution_count": null,
   "id": "d8c84ba4-1b3b-406f-87b2-0b3ee1d57248",
   "metadata": {},
   "outputs": [],
   "source": []
  }
 ],
 "metadata": {
  "kernelspec": {
   "display_name": "Python 3 (ipykernel)",
   "language": "python",
   "name": "python3"
  },
  "language_info": {
   "codemirror_mode": {
    "name": "ipython",
    "version": 3
   },
   "file_extension": ".py",
   "mimetype": "text/x-python",
   "name": "python",
   "nbconvert_exporter": "python",
   "pygments_lexer": "ipython3",
   "version": "3.9.7"
  }
 },
 "nbformat": 4,
 "nbformat_minor": 5
}
