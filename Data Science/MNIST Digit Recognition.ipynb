{
 "cells": [
  {
   "cell_type": "markdown",
   "id": "b8b62a0c-0bed-4b2d-93e6-46c88ac3504d",
   "metadata": {},
   "source": [
    "# Develop A Neural Network That Can Read Handwriting"
   ]
  },
  {
   "cell_type": "code",
   "execution_count": 5,
   "id": "fcc9f74d",
   "metadata": {},
   "outputs": [],
   "source": [
    "from tensorflow import keras\n",
    "from keras.datasets import mnist\n",
    "from keras.models import Sequential\n",
    "from keras.layers import Dense, Dropout, Flatten\n",
    "from keras.layers import Conv2D, MaxPooling2D\n",
    "import matplotlib.pyplot as plt"
   ]
  },
  {
   "cell_type": "markdown",
   "id": "be422742-35e4-4110-b629-57d36c8f4eb5",
   "metadata": {},
   "source": [
    "### Load the data and split between train and test sets"
   ]
  },
  {
   "cell_type": "code",
   "execution_count": 2,
   "id": "734cee54-bc97-490d-a771-c2c14ac24502",
   "metadata": {},
   "outputs": [
    {
     "name": "stdout",
     "output_type": "stream",
     "text": [
      "(60000, 28, 28) (60000,)\n"
     ]
    }
   ],
   "source": [
    "(x_train, y_train), (x_test, y_test) = mnist.load_data()\n",
    "print(x_train.shape, y_train.shape)"
   ]
  },
  {
   "cell_type": "markdown",
   "id": "5462ebb6-70c3-4fe7-b8fc-804a9c944807",
   "metadata": {},
   "source": [
    "### Reshape the data"
   ]
  },
  {
   "cell_type": "code",
   "execution_count": 3,
   "id": "98d85b85-18f3-4ed0-898b-a87799760ca9",
   "metadata": {},
   "outputs": [],
   "source": [
    "x_train = x_train.reshape(x_train.shape[0], 28, 28, 1)\n",
    "x_test = x_test.reshape(x_test.shape[0], 28, 28, 1)\n",
    "input_shape = (28, 28, 1)"
   ]
  },
  {
   "cell_type": "markdown",
   "id": "50b3ed2f-d310-434e-be2d-72ac129eb081",
   "metadata": {},
   "source": [
    "### Visualize some image"
   ]
  },
  {
   "cell_type": "code",
   "execution_count": 7,
   "id": "d78d2915-c41a-4acb-b38b-ae73c0634f66",
   "metadata": {},
   "outputs": [
    {
     "data": {
      "text/plain": [
       "<matplotlib.image.AxesImage at 0x1fc81c64fd0>"
      ]
     },
     "execution_count": 7,
     "metadata": {},
     "output_type": "execute_result"
    },
    {
     "data": {
      "image/png": "[encoded data removed]",
      "text/plain": [
       "<Figure size 432x288 with 1 Axes>"
      ]
     },
     "metadata": {
      "needs_background": "light"
     },
     "output_type": "display_data"
    }
   ],
   "source": [
    "plt.imshow(x_train[600,:,:], cmap='gray')"
   ]
  },
  {
   "cell_type": "code",
   "execution_count": 8,
   "id": "839d133e-8ce8-4aea-97e4-baa1849c6870",
   "metadata": {},
   "outputs": [
    {
     "data": {
      "text/plain": [
       "<matplotlib.image.AxesImage at 0x1fc81f5f7f0>"
      ]
     },
     "execution_count": 8,
     "metadata": {},
     "output_type": "execute_result"
    },
    {
     "data": {
      "image/png": "[encoded data removed]",
      "text/plain": [
       "<Figure size 432x288 with 1 Axes>"
      ]
     },
     "metadata": {
      "needs_background": "light"
     },
     "output_type": "display_data"
    }
   ],
   "source": [
    "plt.imshow(x_train[2300,:,:], cmap='gray')"
   ]
  },
  {
   "cell_type": "code",
   "execution_count": 9,
   "id": "9bd4e6ce-3fda-4437-93cb-6d500be28e41",
   "metadata": {},
   "outputs": [
    {
     "data": {
      "text/plain": [
       "array([5, 0, 4, 1, 9, 2, 1, 3, 1, 4, 3, 5, 3, 6, 1, 7, 2, 8, 6, 9, 4, 0,\n",
       "       9, 1, 1, 2, 4, 3, 2, 7, 3, 8, 6, 9, 0, 5, 6, 0, 7, 6, 1, 8, 7, 9,\n",
       "       3, 9, 8, 5, 9, 3], dtype=uint8)"
      ]
     },
     "execution_count": 9,
     "metadata": {},
     "output_type": "execute_result"
    }
   ],
   "source": [
    "y_train[:50]"
   ]
  },
  {
   "cell_type": "markdown",
   "id": "49833a62-1fab-420c-bfec-2d492ba9446d",
   "metadata": {},
   "source": [
    "### convert class vectors to binary class matrices"
   ]
  },
  {
   "cell_type": "code",
   "execution_count": 10,
   "id": "43827e78-695f-491b-b8a8-386b25240d07",
   "metadata": {},
   "outputs": [],
   "source": [
    "num_classes = 10  # 10 digits\n",
    "y_train = keras.utils.to_categorical(y_train, num_classes)\n",
    "y_test = keras.utils.to_categorical(y_test, num_classes)"
   ]
  },
  {
   "cell_type": "markdown",
   "id": "025ba44b-031e-4f62-9668-22f6cdac006d",
   "metadata": {},
   "source": [
    "### Scale the data in the range [0, 1]"
   ]
  },
  {
   "cell_type": "code",
   "execution_count": 11,
   "id": "c1c5a6f9",
   "metadata": {},
   "outputs": [
    {
     "name": "stdout",
     "output_type": "stream",
     "text": [
      "x_train shape: (60000, 28, 28, 1)\n",
      "60000 train samples\n",
      "10000 test samples\n"
     ]
    }
   ],
   "source": [
    "x_train = x_train.astype('float32')\n",
    "x_test = x_test.astype('float32')\n",
    "x_train /= 255\n",
    "x_test /= 255\n",
    "print('x_train shape:', x_train.shape)\n",
    "print(x_train.shape[0], 'train samples')\n",
    "print(x_test.shape[0], 'test samples')"
   ]
  },
  {
   "cell_type": "markdown",
   "id": "b98e29cc-4a23-4c6d-bed0-61e368997723",
   "metadata": {},
   "source": [
    "### Create the CNN Model with Relu Activation Function and Adam Optimizer "
   ]
  },
  {
   "cell_type": "code",
   "execution_count": 12,
   "id": "11d484d8",
   "metadata": {},
   "outputs": [
    {
     "name": "stdout",
     "output_type": "stream",
     "text": [
      "Model: \"MNIST_model_4\"\n",
      "_________________________________________________________________\n",
      " Layer (type)                Output Shape              Param #   \n",
      "=================================================================\n",
      " conv2d (Conv2D)             (None, 26, 26, 16)        160       \n",
      "                                                                 \n",
      " conv2d_1 (Conv2D)           (None, 24, 24, 32)        4640      \n",
      "                                                                 \n",
      " max_pooling2d (MaxPooling2D  (None, 12, 12, 32)       0         \n",
      " )                                                               \n",
      "                                                                 \n",
      " dropout (Dropout)           (None, 12, 12, 32)        0         \n",
      "                                                                 \n",
      " conv2d_2 (Conv2D)           (None, 10, 10, 64)        18496     \n",
      "                                                                 \n",
      " conv2d_3 (Conv2D)           (None, 8, 8, 128)         73856     \n",
      "                                                                 \n",
      " max_pooling2d_1 (MaxPooling  (None, 4, 4, 128)        0         \n",
      " 2D)                                                             \n",
      "                                                                 \n",
      " dropout_1 (Dropout)         (None, 4, 4, 128)         0         \n",
      "                                                                 \n",
      " flatten (Flatten)           (None, 2048)              0         \n",
      "                                                                 \n",
      " dense (Dense)               (None, 512)               1049088   \n",
      "                                                                 \n",
      " dropout_2 (Dropout)         (None, 512)               0         \n",
      "                                                                 \n",
      " dense_1 (Dense)             (None, 256)               131328    \n",
      "                                                                 \n",
      " dropout_3 (Dropout)         (None, 256)               0         \n",
      "                                                                 \n",
      " dense_2 (Dense)             (None, 10)                2570      \n",
      "                                                                 \n",
      "=================================================================\n",
      "Total params: 1,280,138\n",
      "Trainable params: 1,280,138\n",
      "Non-trainable params: 0\n",
      "_________________________________________________________________\n"
     ]
    }
   ],
   "source": [
    "\n",
    "model = Sequential([\n",
    "    Conv2D(16, kernel_size=(3, 3),  activation='relu', input_shape=input_shape),\n",
    "    Conv2D(32, (3, 3), activation='relu'),\n",
    "    MaxPooling2D(pool_size=(2, 2)),\n",
    "    Dropout(0.25),\n",
    "    Conv2D(64, kernel_size=(3, 3),activation='relu',),\n",
    "    Conv2D(128, (3, 3), activation='relu'),\n",
    "    MaxPooling2D(pool_size=(2, 2)),\n",
    "    Dropout(0.25),\n",
    "    Flatten(),\n",
    "    Dense(512, activation='relu'),\n",
    "    Dropout(0.25),\n",
    "    Dense(256, activation='relu'),\n",
    "    Dropout(0.25),\n",
    "    Dense(num_classes, activation='softmax')\n",
    "], name='MNIST_model_4')\n",
    "\n",
    "model.compile(loss=keras.losses.categorical_crossentropy,optimizer=keras.optimizers.Adam(),metrics=['accuracy'])\n",
    "model.summary()"
   ]
  },
  {
   "cell_type": "markdown",
   "id": "40062026-ed8c-4e52-b4bb-62d14f35aa91",
   "metadata": {},
   "source": [
    "### Create model checkpoint to save the best fit model automatically with good accuracy"
   ]
  },
  {
   "cell_type": "code",
   "execution_count": 13,
   "id": "276279de",
   "metadata": {},
   "outputs": [],
   "source": [
    "import os\n",
    "def create_model_checkpoint(model_name, save_path='model_experiments'):\n",
    "    return keras.callbacks.ModelCheckpoint(filepath=os.path.join(save_path, model_name), monitor='accuracy', mode='max', \n",
    "                                          verbose=0, save_best_only=True)"
   ]
  },
  {
   "cell_type": "markdown",
   "id": "4b0cf044-4710-44a1-80f9-53e6caa0b4ed",
   "metadata": {},
   "source": [
    "### Train the model 10 epochs"
   ]
  },
  {
   "cell_type": "code",
   "execution_count": 14,
   "id": "d7e0b4d2",
   "metadata": {},
   "outputs": [
    {
     "name": "stdout",
     "output_type": "stream",
     "text": [
      "Epoch 1/10\n",
      "59/59 [==============================] - ETA: 0s - loss: 0.5684 - accuracy: 0.8176INFO:tensorflow:Assets written to: model_experiments\\MNIST_model_4\\assets\n",
      "59/59 [==============================] - 40s 668ms/step - loss: 0.5684 - accuracy: 0.8176\n",
      "Epoch 2/10\n",
      "59/59 [==============================] - ETA: 0s - loss: 0.1095 - accuracy: 0.9669INFO:tensorflow:Assets written to: model_experiments\\MNIST_model_4\\assets\n",
      "59/59 [==============================] - 43s 740ms/step - loss: 0.1095 - accuracy: 0.9669\n",
      "Epoch 3/10\n",
      "59/59 [==============================] - ETA: 0s - loss: 0.0703 - accuracy: 0.9781INFO:tensorflow:Assets written to: model_experiments\\MNIST_model_4\\assets\n",
      "59/59 [==============================] - 44s 754ms/step - loss: 0.0703 - accuracy: 0.9781\n",
      "Epoch 4/10\n",
      "59/59 [==============================] - ETA: 0s - loss: 0.0524 - accuracy: 0.9836INFO:tensorflow:Assets written to: model_experiments\\MNIST_model_4\\assets\n",
      "59/59 [==============================] - 44s 745ms/step - loss: 0.0524 - accuracy: 0.9836\n",
      "Epoch 5/10\n",
      "59/59 [==============================] - ETA: 0s - loss: 0.0453 - accuracy: 0.9857INFO:tensorflow:Assets written to: model_experiments\\MNIST_model_4\\assets\n",
      "59/59 [==============================] - 45s 759ms/step - loss: 0.0453 - accuracy: 0.9857\n",
      "Epoch 6/10\n",
      "59/59 [==============================] - ETA: 0s - loss: 0.0390 - accuracy: 0.9876INFO:tensorflow:Assets written to: model_experiments\\MNIST_model_4\\assets\n",
      "59/59 [==============================] - 47s 791ms/step - loss: 0.0390 - accuracy: 0.9876\n",
      "Epoch 7/10\n",
      "59/59 [==============================] - ETA: 0s - loss: 0.0334 - accuracy: 0.9894INFO:tensorflow:Assets written to: model_experiments\\MNIST_model_4\\assets\n",
      "59/59 [==============================] - 44s 750ms/step - loss: 0.0334 - accuracy: 0.9894\n",
      "Epoch 8/10\n",
      "59/59 [==============================] - ETA: 0s - loss: 0.0280 - accuracy: 0.9917INFO:tensorflow:Assets written to: model_experiments\\MNIST_model_4\\assets\n",
      "59/59 [==============================] - 44s 756ms/step - loss: 0.0280 - accuracy: 0.9917\n",
      "Epoch 9/10\n",
      "59/59 [==============================] - ETA: 0s - loss: 0.0252 - accuracy: 0.9920INFO:tensorflow:Assets written to: model_experiments\\MNIST_model_4\\assets\n",
      "59/59 [==============================] - 44s 749ms/step - loss: 0.0252 - accuracy: 0.9920\n",
      "Epoch 10/10\n",
      "59/59 [==============================] - ETA: 0s - loss: 0.0214 - accuracy: 0.9931INFO:tensorflow:Assets written to: model_experiments\\MNIST_model_4\\assets\n",
      "59/59 [==============================] - 45s 759ms/step - loss: 0.0214 - accuracy: 0.9931\n",
      "The model has successfully trained\n"
     ]
    }
   ],
   "source": [
    "history = model.fit(x_train, y_train, batch_size=1024, epochs=10,verbose=1, callbacks=[create_model_checkpoint(model.name)])\n",
    "print(\"The model has successfully trained\")"
   ]
  },
  {
   "cell_type": "markdown",
   "id": "429d1813-6883-45e7-a4aa-dd4696a6551b",
   "metadata": {},
   "source": [
    "### load the best fit model and evaluate on test data"
   ]
  },
  {
   "cell_type": "code",
   "execution_count": 16,
   "id": "f3708f6c",
   "metadata": {},
   "outputs": [
    {
     "name": "stdout",
     "output_type": "stream",
     "text": [
      "313/313 [==============================] - 3s 8ms/step - loss: 0.0187 - accuracy: 0.9938\n"
     ]
    },
    {
     "data": {
      "text/plain": [
       "[0.018711483106017113, 0.9937999844551086]"
      ]
     },
     "execution_count": 16,
     "metadata": {},
     "output_type": "execute_result"
    }
   ],
   "source": [
    "from keras.models import load_model\n",
    "saved_model = load_model('model_experiments/' + model.name)\n",
    "saved_model.evaluate(x_test, y_test)"
   ]
  },
  {
   "cell_type": "code",
   "execution_count": null,
   "id": "45974bc1",
   "metadata": {},
   "outputs": [],
   "source": []
  },
  {
   "cell_type": "code",
   "execution_count": null,
   "id": "7ed6a46f",
   "metadata": {},
   "outputs": [],
   "source": []
  }
 ],
 "metadata": {
  "kernelspec": {
   "display_name": "Python 3 (ipykernel)",
   "language": "python",
   "name": "python3"
  },
  "language_info": {
   "codemirror_mode": {
    "name": "ipython",
    "version": 3
   },
   "file_extension": ".py",
   "mimetype": "text/x-python",
   "name": "python",
   "nbconvert_exporter": "python",
   "pygments_lexer": "ipython3",
   "version": "3.9.7"
  },
  "vscode": {
   "interpreter": {
    "hash": "da6726d1435c5120ef8f475efd5c7f75af58c3c3ae8a5aaaa08dd777f8429a78"
   }
  }
 },
 "nbformat": 4,
 "nbformat_minor": 5
}
